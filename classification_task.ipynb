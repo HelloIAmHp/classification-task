{
 "cells": [
  {
   "cell_type": "code",
   "execution_count": 159,
   "metadata": {},
   "outputs": [],
   "source": [
    "import numpy as np\n",
    "from sklearn.svm import SVC\n",
    "import sklearn.preprocessing as preprocessing\n",
    "from sklearn.model_selection import KFold\n",
    "from sklearn.metrics import confusion_matrix\n",
    "import joblib"
   ]
  },
  {
   "cell_type": "markdown",
   "metadata": {},
   "source": [
    "## load data and label"
   ]
  },
  {
   "cell_type": "code",
   "execution_count": 160,
   "metadata": {},
   "outputs": [],
   "source": [
    "spam_data = np.loadtxt('./spambase.data', delimiter=',')\n",
    "spam_X = spam_data[:, :-1]\n",
    "spam_Y = spam_data[:, -1]"
   ]
  },
  {
   "cell_type": "markdown",
   "metadata": {},
   "source": [
    "## prepare the K fold and preprocess step"
   ]
  },
  {
   "cell_type": "code",
   "execution_count": 161,
   "metadata": {},
   "outputs": [],
   "source": [
    "kfold = KFold(n_splits=10, shuffle=False)"
   ]
  },
  {
   "cell_type": "code",
   "execution_count": 162,
   "metadata": {},
   "outputs": [],
   "source": [
    "scaler = preprocessing.RobustScaler()\n",
    "spam_X = scaler.fit_transform(spam_X)"
   ]
  },
  {
   "cell_type": "markdown",
   "metadata": {},
   "source": [
    "## SVM"
   ]
  },
  {
   "cell_type": "code",
   "execution_count": 163,
   "metadata": {},
   "outputs": [],
   "source": [
    "classifier = SVC(kernel='linear', gamma='scale')"
   ]
  },
  {
   "cell_type": "code",
   "execution_count": 164,
   "metadata": {},
   "outputs": [],
   "source": [
    "error = 1\n",
    "model_num = 0\n",
    "error_list = []\n",
    "fp_list = []\n",
    "fn_list = []\n",
    "for k, (train, test) in enumerate(kfold.split(spam_X, spam_Y)):\n",
    "    classifier.fit(spam_X[train], spam_Y[train])\n",
    "    Y_pred = classifier.predict(spam_X[test])\n",
    "    tn, fp, fn, tp = confusion_matrix(spam_Y[test], Y_pred, labels=[0,1]).ravel()\n",
    "    fp_list.append(fp / len(Y_pred))\n",
    "    fn_list.append(fn / len(Y_pred))\n",
    "    error_list.append((fp + fn) / len(Y_pred))\n",
    "    if error > error_list[-1]:\n",
    "        error = error_list[-1]\n",
    "        model_num = k\n",
    "        joblib.dump(classifier, './best_model.pkl')"
   ]
  },
  {
   "cell_type": "markdown",
   "metadata": {},
   "source": [
    "## test on the bets model"
   ]
  },
  {
   "cell_type": "code",
   "execution_count": 165,
   "metadata": {},
   "outputs": [],
   "source": [
    "best_classifier = joblib.load('./best_model.pkl')\n",
    "best_error_list = []\n",
    "best_fp_list = []\n",
    "best_fn_list = []\n",
    "for k, (train, test) in enumerate(kfold.split(spam_X, spam_Y)):\n",
    "    Y_pred = best_classifier.predict(spam_X[test])\n",
    "    tn, fp, fn, tp = confusion_matrix(spam_Y[test], Y_pred, labels=[0,1]).ravel()\n",
    "    best_error_list.append((fp + fn) / len(Y_pred))\n",
    "    best_fp_list.append(fp / len(Y_pred))\n",
    "    best_fn_list.append(fn / len(Y_pred))"
   ]
  },
  {
   "cell_type": "markdown",
   "metadata": {},
   "source": [
    "## show results"
   ]
  },
  {
   "cell_type": "code",
   "execution_count": 166,
   "metadata": {},
   "outputs": [],
   "source": [
    "import pandas as pd"
   ]
  },
  {
   "cell_type": "code",
   "execution_count": 167,
   "metadata": {},
   "outputs": [],
   "source": [
    "show_frame = np.concatenate((fp_list, fn_list, error_list)).reshape(3, 10).T\n",
    "best_model_info = [[sum(best_fp_list)/10, sum(best_fn_list)/10, sum(best_error_list)/10]]\n",
    "show_frame = np.concatenate((show_frame, best_model_info))"
   ]
  },
  {
   "cell_type": "code",
   "execution_count": 168,
   "metadata": {},
   "outputs": [
    {
     "data": {
      "text/html": [
       "<div>\n",
       "<style scoped>\n",
       "    .dataframe tbody tr th:only-of-type {\n",
       "        vertical-align: middle;\n",
       "    }\n",
       "\n",
       "    .dataframe tbody tr th {\n",
       "        vertical-align: top;\n",
       "    }\n",
       "\n",
       "    .dataframe thead th {\n",
       "        text-align: right;\n",
       "    }\n",
       "</style>\n",
       "<table border=\"1\" class=\"dataframe\">\n",
       "  <thead>\n",
       "    <tr style=\"text-align: right;\">\n",
       "      <th></th>\n",
       "      <th>fp</th>\n",
       "      <th>fn</th>\n",
       "      <th>error rate</th>\n",
       "    </tr>\n",
       "  </thead>\n",
       "  <tbody>\n",
       "    <tr>\n",
       "      <th>0</th>\n",
       "      <td>0.000000</td>\n",
       "      <td>0.149675</td>\n",
       "      <td>0.149675</td>\n",
       "    </tr>\n",
       "    <tr>\n",
       "      <th>1</th>\n",
       "      <td>0.000000</td>\n",
       "      <td>0.086957</td>\n",
       "      <td>0.086957</td>\n",
       "    </tr>\n",
       "    <tr>\n",
       "      <th>2</th>\n",
       "      <td>0.000000</td>\n",
       "      <td>0.100000</td>\n",
       "      <td>0.100000</td>\n",
       "    </tr>\n",
       "    <tr>\n",
       "      <th>3</th>\n",
       "      <td>0.004348</td>\n",
       "      <td>0.160870</td>\n",
       "      <td>0.165217</td>\n",
       "    </tr>\n",
       "    <tr>\n",
       "      <th>4</th>\n",
       "      <td>0.041304</td>\n",
       "      <td>0.000000</td>\n",
       "      <td>0.041304</td>\n",
       "    </tr>\n",
       "    <tr>\n",
       "      <th>5</th>\n",
       "      <td>0.065217</td>\n",
       "      <td>0.000000</td>\n",
       "      <td>0.065217</td>\n",
       "    </tr>\n",
       "    <tr>\n",
       "      <th>6</th>\n",
       "      <td>0.128261</td>\n",
       "      <td>0.000000</td>\n",
       "      <td>0.128261</td>\n",
       "    </tr>\n",
       "    <tr>\n",
       "      <th>7</th>\n",
       "      <td>0.047826</td>\n",
       "      <td>0.000000</td>\n",
       "      <td>0.047826</td>\n",
       "    </tr>\n",
       "    <tr>\n",
       "      <th>8</th>\n",
       "      <td>0.043478</td>\n",
       "      <td>0.000000</td>\n",
       "      <td>0.043478</td>\n",
       "    </tr>\n",
       "    <tr>\n",
       "      <th>9</th>\n",
       "      <td>0.180435</td>\n",
       "      <td>0.000000</td>\n",
       "      <td>0.180435</td>\n",
       "    </tr>\n",
       "    <tr>\n",
       "      <th>10</th>\n",
       "      <td>0.028913</td>\n",
       "      <td>0.036500</td>\n",
       "      <td>0.065413</td>\n",
       "    </tr>\n",
       "  </tbody>\n",
       "</table>\n",
       "</div>"
      ],
      "text/plain": [
       "          fp        fn  error rate\n",
       "0   0.000000  0.149675    0.149675\n",
       "1   0.000000  0.086957    0.086957\n",
       "2   0.000000  0.100000    0.100000\n",
       "3   0.004348  0.160870    0.165217\n",
       "4   0.041304  0.000000    0.041304\n",
       "5   0.065217  0.000000    0.065217\n",
       "6   0.128261  0.000000    0.128261\n",
       "7   0.047826  0.000000    0.047826\n",
       "8   0.043478  0.000000    0.043478\n",
       "9   0.180435  0.000000    0.180435\n",
       "10  0.028913  0.036500    0.065413"
      ]
     },
     "execution_count": 168,
     "metadata": {},
     "output_type": "execute_result"
    }
   ],
   "source": [
    "pd.DataFrame(show_frame, columns=[\"fp\", \"fn\", \"error rate\"])"
   ]
  },
  {
   "cell_type": "code",
   "execution_count": null,
   "metadata": {},
   "outputs": [],
   "source": []
  },
  {
   "cell_type": "code",
   "execution_count": null,
   "metadata": {},
   "outputs": [],
   "source": []
  },
  {
   "cell_type": "code",
   "execution_count": null,
   "metadata": {},
   "outputs": [],
   "source": []
  }
 ],
 "metadata": {
  "kernelspec": {
   "display_name": "Python 3.7.3 64-bit ('base': conda)",
   "language": "python",
   "name": "python37364bitbaseconda03996e6e6bf74bf88dd469bf4c49bd63"
  },
  "language_info": {
   "codemirror_mode": {
    "name": "ipython",
    "version": 3
   },
   "file_extension": ".py",
   "mimetype": "text/x-python",
   "name": "python",
   "nbconvert_exporter": "python",
   "pygments_lexer": "ipython3",
   "version": "3.7.6"
  }
 },
 "nbformat": 4,
 "nbformat_minor": 4
}
